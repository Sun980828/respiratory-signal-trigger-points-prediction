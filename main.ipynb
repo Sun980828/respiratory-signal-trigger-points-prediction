{
 "cells": [
  {
   "cell_type": "code",
   "execution_count": 1,
   "metadata": {},
   "outputs": [],
   "source": [
    "import matplotlib.pyplot as plt\n",
    "import numpy as np\n",
    "import torch\n",
    "from torch import nn\n",
    "from torch.utils.data import DataLoader\n",
    "from utils import listcsv, TrainTestSplit, extract_datasets\n",
    "from config import TrainingConfig, LSTMConfig\n",
    "from Dataset import MyDataset\n",
    "from model import Model"
   ]
  },
  {
   "cell_type": "code",
   "execution_count": 2,
   "metadata": {},
   "outputs": [],
   "source": [
    "data_path = './Dataset/train_set.csv'\n",
    "log_path = './train_logs/process.log'\n",
    "model_save_path = './model_state_dict/model.pt'"
   ]
  },
  {
   "cell_type": "code",
   "execution_count": null,
   "metadata": {},
   "outputs": [],
   "source": [
    "Train_x_arr, Train_y_arr, Test_x_arr, Test_y_arr = extract_datasets(data_path, LSTMConfig.input_dim, LSTMConfig.output_dim)\n",
    "train_set = MyDataset(Train_x_arr, Train_y_arr)\n",
    "valid_set = MyDataset(Test_x_arr, Test_y_arr)\n",
    "Train_loader = DataLoader(train_set, batch_size=TrainingConfig.batch_sz, shuffle=True)\n",
    "Valid_loader = DataLoader(valid_set, batch_size=TrainingConfig.batch_sz, shuffle=True)"
   ]
  },
  {
   "cell_type": "code",
   "execution_count": null,
   "metadata": {},
   "outputs": [],
   "source": [
    "# test\n",
    "model = Model()\n",
    "model.train_model(Train_loader, Valid_loader, log_path=log_path)"
   ]
  },
  {
   "cell_type": "code",
   "execution_count": null,
   "metadata": {},
   "outputs": [],
   "source": [
    "test_num = 1000\n",
    "xl = np.arange(LSTMConfig.input_dim, LSTMConfig.input_dim + LSTMConfig.output_dim)\n",
    "Train_x_arr = Train_x_arr.reshape(-1, LSTMConfig.input_dim)\n",
    "x = Train_x_arr[test_num].reshape(1, LSTMConfig.input_dim, 1)\n",
    "x = torch.Tensor(x)\n",
    "preds = model.predict(x).squeeze()\n",
    "yl = preds.detach().cpu().numpy()\n",
    "\n",
    "past = Train_x_arr[test_num]\n",
    "x1 = np.arange(LSTMConfig.input_dim)\n",
    "x2 = np.arange(LSTMConfig.input_dim, LSTMConfig.input_dim + LSTMConfig.output_dim)\n",
    "yll = Train_y_arr[test_num].reshape(LSTMConfig.output_dim, )\n",
    "\n",
    "fig, ax1 = plt.subplots(1, 1, figsize = (8, 8))\n",
    "ax1.plot(x1, past, marker='x', linestyle='-', color='c', label='past signal')\n",
    "ax1.plot(x2, yl, marker='o', linestyle='-', color='b', label='pred')\n",
    "ax1.plot(x2, yll, marker='o', linestyle='-', color='r', label='origin')\n",
    "\n",
    "ax1.set_title('Single extracted sample')\n",
    "ax1.set_xlabel('X-label')\n",
    "ax1.set_ylabel('Y-label')\n",
    "ax1.legend(loc = 'lower right')\n",
    "\n",
    "plt.show()"
   ]
  },
  {
   "cell_type": "code",
   "execution_count": null,
   "metadata": {},
   "outputs": [],
   "source": [
    "test_num =700\n",
    "xl = np.arange(LSTMConfig.input_dim, LSTMConfig.input_dim + LSTMConfig.output_dim)\n",
    "Test_x_arr = Test_x_arr.reshape(-1, LSTMConfig.input_dim)\n",
    "x = Test_x_arr[test_num].reshape(1, LSTMConfig.input_dim, 1)\n",
    "x = torch.Tensor(x)\n",
    "preds = model(x).squeeze()\n",
    "yl = preds.detach().cpu().numpy()\n",
    "\n",
    "past = Test_x_arr[test_num]\n",
    "x1 = np.arange(LSTMConfig.input_dim)\n",
    "x2 = np.arange(LSTMConfig.input_dim, LSTMConfig.input_dim + LSTMConfig.output_dim)\n",
    "yll = Test_y_arr[test_num].reshape(LSTMConfig.output_dim, )\n",
    "\n",
    "fig, ax1 = plt.subplots(1, 1, figsize = (8, 8))\n",
    "ax1.plot(x1, past, marker='x', linestyle='-', color='c', label='past signal')\n",
    "ax1.plot(x2, yl, marker='o', linestyle='-', color='b', label='pred')\n",
    "ax1.plot(x2, yll, marker='o', linestyle='-', color='r', label='origin')\n",
    "\n",
    "ax1.set_title('Single extracted sample')\n",
    "ax1.set_xlabel('X-label')\n",
    "ax1.set_ylabel('Y-label')\n",
    "ax1.legend(loc = 'lower right')\n",
    "\n",
    "plt.show()"
   ]
  },
  {
   "cell_type": "code",
   "execution_count": null,
   "metadata": {},
   "outputs": [],
   "source": [
    "model.save_model(save_path=model_save_path)"
   ]
  }
 ],
 "metadata": {
  "kernelspec": {
   "display_name": "Python 3",
   "language": "python",
   "name": "python3"
  },
  "language_info": {
   "codemirror_mode": {
    "name": "ipython",
    "version": 3
   },
   "file_extension": ".py",
   "mimetype": "text/x-python",
   "name": "python",
   "nbconvert_exporter": "python",
   "pygments_lexer": "ipython3",
   "version": "3.12.0"
  }
 },
 "nbformat": 4,
 "nbformat_minor": 2
}
